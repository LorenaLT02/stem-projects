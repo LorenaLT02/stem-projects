{
 "cells": [
  {
   "cell_type": "markdown",
   "metadata": {},
   "source": [
    "# Using the JSON Module\n"
   ]
  },
  {
   "cell_type": "markdown",
   "metadata": {},
   "source": [
    "__Javascript Object Notation__, or [JSON](http://www.w3schools.com/js/js_json_intro.asp) for short, is a standardized way of storing and sharing data, not unlike XML. For Python users, JSON structure will be familiar, since it very closely resembles a Python dictionary.\n",
    "\n",
    "In JSON, data is stored in name:value pairs. Consider the example below:"
   ]
  },
  {
   "cell_type": "code",
   "execution_count": 1,
   "metadata": {
    "collapsed": true
   },
   "outputs": [],
   "source": [
    "json_str = '{\"subjects\":[\"Engineering\", \"Math\", \"Biology\", \"Geometry\"]}'"
   ]
  },
  {
   "cell_type": "markdown",
   "metadata": {},
   "source": [
    "In this case, we see an object called `subjects` which contains the list of strings `Engineering, Math, Biology, Geometry`\n",
    "\n",
    "In order to get Python to read this, we can use the `loads()` function (load string) from the JSON module."
   ]
  },
  {
   "cell_type": "code",
   "execution_count": 2,
   "metadata": {
    "collapsed": false
   },
   "outputs": [
    {
     "data": {
      "text/plain": [
       "{'subjects': ['Engineering', 'Math', 'Biology', 'Geometry']}"
      ]
     },
     "execution_count": 2,
     "metadata": {},
     "output_type": "execute_result"
    }
   ],
   "source": [
    "import json\n",
    "\n",
    "json.loads(json_str)"
   ]
  },
  {
   "cell_type": "markdown",
   "metadata": {},
   "source": [
    "See how Python interprets this as a `dict`?"
   ]
  },
  {
   "cell_type": "code",
   "execution_count": 3,
   "metadata": {
    "collapsed": false
   },
   "outputs": [
    {
     "data": {
      "text/plain": [
       "dict"
      ]
     },
     "execution_count": 3,
     "metadata": {},
     "output_type": "execute_result"
    }
   ],
   "source": [
    "type(json.loads(json_str))"
   ]
  },
  {
   "cell_type": "markdown",
   "metadata": {},
   "source": [
    "We can work with this the same way we'd work with a dictionary:"
   ]
  },
  {
   "cell_type": "code",
   "execution_count": 23,
   "metadata": {
    "collapsed": false
   },
   "outputs": [
    {
     "data": {
      "text/plain": [
       "['Engineering', 'Math', 'Biology', 'Geometry']"
      ]
     },
     "execution_count": 23,
     "metadata": {},
     "output_type": "execute_result"
    }
   ],
   "source": [
    "data = json.loads(json_str)\n",
    "data['subjects']"
   ]
  },
  {
   "cell_type": "markdown",
   "metadata": {},
   "source": [
    "Let's see how this might work for our project. Here's the raw data from the `test.json` file."
   ]
  },
  {
   "cell_type": "code",
   "execution_count": 31,
   "metadata": {
    "collapsed": false
   },
   "outputs": [
    {
     "name": "stdout",
     "output_type": "stream",
     "text": [
      "{\"students\": {\"1003\": {\"first_name\": \"Ringo\", \"last_name\": \"Starr\"}, \"1002\": {\"first_name\": \"George\", \"last_name\": \"Harrison\"}, \"1001\": {\"first_name\": \"Paul\", \"last_name\": \"McCartney\"}, \"1000\": {\"first_name\": \"John\", \"last_name\": \"Lennon\"}}, \"books\": {\"9780465025275\": {\"author\": \"Ralph Leighton\", \"title\": \"Six Easy Pieces: Essentials of Physics Explained by Its Most Brilliant Teacher\"}, \"9780394800011\": {\"author\": \"Dr. Seuss\", \"title\": \"The Cat in the Hat\"}, \"9781420946338\": {\"author\": \"Albert Einstein\", \"title\": \"Relativity: The Special and General Theory\"}, \"9780553380163\": {\"author\": \"Stephen Hawking\", \"title\": \"A Brief History of Time\"}}}\n"
     ]
    }
   ],
   "source": [
    "with open('../data/test.json') as f:\n",
    "    print(f.read())"
   ]
  },
  {
   "cell_type": "markdown",
   "metadata": {},
   "source": [
    "And here's what it looks like parsed using the JSON module:"
   ]
  },
  {
   "cell_type": "code",
   "execution_count": 21,
   "metadata": {
    "collapsed": false
   },
   "outputs": [],
   "source": [
    "import json\n",
    "\n",
    "data = json.loads(s)\n",
    "books = json.loads(s)[\"books\"]\n",
    "students = json.loads(s)[\"students\"]\n"
   ]
  },
  {
   "cell_type": "markdown",
   "metadata": {},
   "source": [
    "The `json.loads()` function parses a JSON object from a string and stores it as a Python dictionary. In our case, there were two keys: `books` and `students`, each of which is linked to a dictionary of dictionaries.\n",
    "\n",
    "We can do the same thing in reverse - converting a Python object to a JSON string, using the `json.dumps()` function."
   ]
  },
  {
   "cell_type": "code",
   "execution_count": 26,
   "metadata": {
    "collapsed": true
   },
   "outputs": [],
   "source": [
    "groceries = {\"fruit\":\"bananas\", \"dairy\":\"milk\", \"meat\":\"chicken\"}"
   ]
  },
  {
   "cell_type": "code",
   "execution_count": 27,
   "metadata": {
    "collapsed": false
   },
   "outputs": [
    {
     "data": {
      "text/plain": [
       "'{\"meat\": \"chicken\", \"dairy\": \"milk\", \"fruit\": \"bananas\"}'"
      ]
     },
     "execution_count": 27,
     "metadata": {},
     "output_type": "execute_result"
    }
   ],
   "source": [
    "json.dumps(groceries)"
   ]
  },
  {
   "cell_type": "markdown",
   "metadata": {},
   "source": [
    "We used the `loads()` and `dumps()` functions to load and write JSON using strings. There are also functions for doing the same with file objects, `load()` and `dump()`"
   ]
  },
  {
   "cell_type": "markdown",
   "metadata": {},
   "source": [
    "So in the previous example, we used `json.dumps()` to create a string with JSON. We can write this to a file instead as follows:"
   ]
  },
  {
   "cell_type": "code",
   "execution_count": 29,
   "metadata": {
    "collapsed": false
   },
   "outputs": [],
   "source": [
    "with open('../data/dump.json', 'w') as f:\n",
    "    json.dump(groceries, f)"
   ]
  },
  {
   "cell_type": "markdown",
   "metadata": {},
   "source": [
    "And reading the file back:"
   ]
  },
  {
   "cell_type": "code",
   "execution_count": 32,
   "metadata": {
    "collapsed": false
   },
   "outputs": [
    {
     "name": "stdout",
     "output_type": "stream",
     "text": [
      "{\"meat\": \"chicken\", \"dairy\": \"milk\", \"fruit\": \"bananas\"}\n"
     ]
    }
   ],
   "source": [
    "with open('../data/dump.json') as f:\n",
    "    print(f.read())"
   ]
  },
  {
   "cell_type": "markdown",
   "metadata": {},
   "source": [
    "And we can use the file we just created to create a Python object again:"
   ]
  },
  {
   "cell_type": "code",
   "execution_count": 35,
   "metadata": {
    "collapsed": false
   },
   "outputs": [
    {
     "name": "stdout",
     "output_type": "stream",
     "text": [
      "{'meat': 'chicken', 'dairy': 'milk', 'fruit': 'bananas'}\n"
     ]
    }
   ],
   "source": [
    "with open('../data/dump.json') as f:\n",
    "    data = json.load(f)\n",
    "    \n",
    "print(data)"
   ]
  },
  {
   "cell_type": "markdown",
   "metadata": {},
   "source": [
    "So in conclusion, JSON is a quick, easy way of moving plain text data across multiple platforms and languages. "
   ]
  }
 ],
 "metadata": {
  "anaconda-cloud": {},
  "kernelspec": {
   "display_name": "Python [conda root]",
   "language": "python",
   "name": "conda-root-py"
  },
  "language_info": {
   "codemirror_mode": {
    "name": "ipython",
    "version": 3
   },
   "file_extension": ".py",
   "mimetype": "text/x-python",
   "name": "python",
   "nbconvert_exporter": "python",
   "pygments_lexer": "ipython3",
   "version": "3.5.2"
  }
 },
 "nbformat": 4,
 "nbformat_minor": 1
}
