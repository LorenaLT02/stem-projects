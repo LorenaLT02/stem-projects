{
 "cells": [
  {
   "cell_type": "markdown",
   "metadata": {},
   "source": [
    "# Library Project Git Workflow"
   ]
  },
  {
   "cell_type": "markdown",
   "metadata": {},
   "source": [
    "Now that you have a decent idea of how to break this project up into manageable pieces, you may be wondering how to work on this from home with the help of your teammates. Git to the rescue!\n",
    "\n",
    "If you're reading this, I'm guessing you've already cloned this repo. If by some chance you haven't, and you have git installed, you can run the command \n",
    "\n",
    "`git clone https://github.com/denricoNBHS/stem-projects`\n",
    "\n",
    "to get our directory of projects onto your local machine.\n",
    "\n",
    "(__Note__: From here on out, __ignore the exclamation point__ at the beginning of my shell commands - I'm only using them to get my terminal output into the notebook)\n",
    "\n",
    "At any point throughout the workflow, if you'd like to see the current state of your project's files, use the command:"
   ]
  },
  {
   "cell_type": "code",
   "execution_count": 6,
   "metadata": {
    "collapsed": false
   },
   "outputs": [
    {
     "name": "stdout",
     "output_type": "stream",
     "text": [
      "On branch master\r\n",
      "Your branch is up-to-date with 'origin/master'.\r\n",
      "Untracked files:\r\n",
      "  (use \"git add <file>...\" to include in what will be committed)\r\n",
      "\r\n",
      "\t\u001b[31mLibrary Project Git Workflow.ipynb\u001b[m\r\n",
      "\r\n",
      "nothing added to commit but untracked files present (use \"git add\" to track)\r\n"
     ]
    }
   ],
   "source": [
    "!git status"
   ]
  },
  {
   "cell_type": "markdown",
   "metadata": {},
   "source": [
    "Here you can see git telling us a few things. First, we're working on the `master branch of our repository"
   ]
  }
 ],
 "metadata": {
  "kernelspec": {
   "display_name": "Python 3",
   "language": "python",
   "name": "python3"
  },
  "language_info": {
   "codemirror_mode": {
    "name": "ipython",
    "version": 3
   },
   "file_extension": ".py",
   "mimetype": "text/x-python",
   "name": "python",
   "nbconvert_exporter": "python",
   "pygments_lexer": "ipython3",
   "version": "3.5.2"
  }
 },
 "nbformat": 4,
 "nbformat_minor": 1
}
